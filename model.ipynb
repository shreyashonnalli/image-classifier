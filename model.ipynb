{
 "cells": [
  {
   "attachments": {},
   "cell_type": "markdown",
   "metadata": {},
   "source": [
    "## Imports"
   ]
  },
  {
   "cell_type": "code",
   "execution_count": 134,
   "metadata": {},
   "outputs": [],
   "source": [
    "# Conv2D is spatial convolution over images\n",
    "# MaxPooling2D is a max pooling operation for 2D spatial data\n",
    "from tensorflow.keras.metrics import Precision, Recall, BinaryAccuracy\n",
    "from tensorflow.keras.layers import Conv2D, MaxPooling2D, Dense, Flatten, Dropout\n",
    "# sequential is good for when we have a single dataset and looking for single output\n",
    "from tensorflow.keras.models import Sequential, load_model\n",
    "from tensorflow.keras.applications.resnet50 import ResNet50\n",
    "import cv2\n",
    "import tensorflow as tf\n",
    "import os\n",
    "import random\n",
    "import numpy as np\n",
    "from matplotlib import pyplot as plt\n",
    "from PIL import Image\n",
    "from sklearn.model_selection import StratifiedShuffleSplit\n",
    "import seaborn as sns\n",
    "from sklearn.metrics import confusion_matrix"
   ]
  },
  {
   "attachments": {},
   "cell_type": "markdown",
   "metadata": {},
   "source": [
    "## Data collection and gpu configuration"
   ]
  },
  {
   "cell_type": "code",
   "execution_count": null,
   "metadata": {},
   "outputs": [],
   "source": [
    "gpus = tf.config.experimental.list_physical_devices('GPU')\n",
    "for gpu in gpus:\n",
    "    tf.config.experimental.set_memory_growth(gpu, True)\n",
    "     \n",
    "\n",
    "# removing dodgy images\n",
    "# open computer vision\n",
    "# allows us to check extensions of images\n",
    "\n",
    "# variable to data directory\n",
    "data_dir = 'tonsildb'\n",
    "\n",
    "# extensions of images\n",
    "img_exts = ['jpeg', 'jpg', 'bmp', 'png']\n",
    "\n",
    "data = tf.keras.utils.image_dataset_from_directory('tonsildb', seed=42)\n",
    "images_np = np.concatenate([x for x, y in data], axis=0)\n",
    "labels_np = np.concatenate([y for x, y in data], axis=0)"
   ]
  },
  {
   "attachments": {},
   "cell_type": "markdown",
   "metadata": {},
   "source": [
    "## Available pre processing pipeline functions"
   ]
  },
  {
   "cell_type": "code",
   "execution_count": null,
   "metadata": {},
   "outputs": [],
   "source": [
    "def color_correct(image):\n",
    "    image = tf.image.adjust_contrast(image, contrast_factor=1.5)\n",
    "    image = tf.image.adjust_brightness(image, delta=0.2)\n",
    "    image = tf.clip_by_value(image, 0, 255)\n",
    "    # image = tf.cast(image, tf.float32)/255.0\n",
    "    return image\n",
    "\n",
    "\n",
    "def rgb_to_ycbcr(rgb_image):\n",
    "    R, G, B = tf.split(rgb_image, num_or_size_splits=3, axis=-1)\n",
    "    Y = 0.299 * R + 0.587 * G + 0.114 * B\n",
    "    Cb = -0.169 * R - 0.331 * G + 0.5 * B + 128\n",
    "    Cr = 0.5 * R - 0.419 * G - 0.081 * B + 128\n",
    "    ycbcr_image = tf.stack([Y, Cb, Cr], axis=3)\n",
    "    ycbcr_image = tf.squeeze(ycbcr_image, axis=-1)\n",
    "    return ycbcr_image\n",
    "\n",
    "\n",
    "def color_mask_ycbcr(ycbcr_image):\n",
    "    y, cb, cr = tf.split(ycbcr_image, num_or_size_splits=3, axis=-1)\n",
    "    y_min = 92\n",
    "    y_max = 145\n",
    "    cb_min = 112\n",
    "    cb_max = 142\n",
    "    cr_min = 135\n",
    "    cr_max = 185\n",
    "    y_mask = tf.math.logical_and(y >= y_min, y <= y_max)\n",
    "    cb_mask = tf.math.logical_and(cb >= cb_min, cb <= cb_max)\n",
    "    cr_mask = tf.math.logical_and(cr >= cr_min, cr <= cr_max)\n",
    "    color_mask = tf.math.logical_and(\n",
    "        tf.math.logical_and(y_mask, cb_mask), cr_mask)\n",
    "    color_mask = tf.cast(color_mask, dtype=tf.float32)\n",
    "    masked_image = ycbcr_image * color_mask\n",
    "    # masked_image = tf.cast(masked_image, tf.float32)/255.0\n",
    "    return masked_image\n",
    "\n",
    "def color_mask_rgb(rgb_image):\n",
    "    #print_rgb_channel_values(rgb_image)\n",
    "    r, g, b = tf.split(rgb_image, num_or_size_splits=3, axis=-1)\n",
    "    r_min = 0\n",
    "    r_max = 320\n",
    "    g_min = 0\n",
    "    g_max = 320\n",
    "    b_min = 0\n",
    "    b_max = 320\n",
    "    r_mask = tf.math.logical_and(r >= r_min, r <= r_max)\n",
    "    g_mask = tf.math.logical_and(g >= g_min, g <= g_max)\n",
    "    b_mask = tf.math.logical_and(b >= b_min, b <= b_max)\n",
    "    color_mask = tf.math.logical_and(\n",
    "        tf.math.logical_and(r_mask, g_mask), b_mask)\n",
    "    color_mask = tf.cast(color_mask, dtype=tf.float32)\n",
    "    masked_image = rgb_image * color_mask\n",
    "    # masked_image = tf.cast(masked_image, tf.float32)/255.0\n",
    "    return masked_image\n"
   ]
  },
  {
   "attachments": {},
   "cell_type": "markdown",
   "metadata": {},
   "source": [
    "## Pipeline"
   ]
  },
  {
   "cell_type": "code",
   "execution_count": null,
   "metadata": {},
   "outputs": [],
   "source": [
    "def pipeline_for_individial_image(image):\n",
    "    image = color_correct(image=image)\n",
    "    image = rgb_to_ycbcr(rgb_image=image)\n",
    "    return image\n",
    "\n",
    "def pipeline(data):\n",
    "    data = data.map(lambda x, y: (color_correct(x), y))\n",
    "    #data = data.map(lambda x, y: (color_mask_rgb(x), y))\n",
    "    #data = data.map(lambda x, y: (rgb_to_ycbcr(x), y))\n",
    "    #data = data.map(lambda x, y: (color_mask_ycbcr(x), y))\n",
    "    return data\n",
    "\n",
    "data = pipeline(data)"
   ]
  },
  {
   "attachments": {},
   "cell_type": "markdown",
   "metadata": {},
   "source": [
    "## See what color correct does"
   ]
  },
  {
   "cell_type": "code",
   "execution_count": null,
   "metadata": {},
   "outputs": [],
   "source": [
    "color_corrected_data = data.map(lambda x, y: (color_correct(x), x, y))\n",
    "for color_corrected_batch, original_batch, label_batch in color_corrected_data.take(1):\n",
    "    for i in range(32):\n",
    "        plt.subplot(4, 16, i*2 + 1)\n",
    "        plt.imshow(original_batch[i]/255.0)\n",
    "        plt.axis('off')\n",
    "        plt.subplot(4, 16, i*2 + 2)\n",
    "        plt.imshow(color_corrected_batch[i]/255.0)\n",
    "        plt.axis('off')\n",
    "    plt.show()"
   ]
  },
  {
   "attachments": {},
   "cell_type": "markdown",
   "metadata": {},
   "source": [
    "## Extracting data using opencv"
   ]
  },
  {
   "cell_type": "code",
   "execution_count": 174,
   "metadata": {},
   "outputs": [],
   "source": [
    "image_directory = 'tonsildb/'\n",
    "dataset = []\n",
    "label = []\n",
    "\n",
    "no_pha_images = os.listdir(image_directory+'no_pharyngitis')\n",
    "for i, image_name in enumerate(no_pha_images):    #Remember enumerate method adds a counter and returns the enumerate object\n",
    "    image = cv2.imread(image_directory + 'no_pharyngitis/' + image_name)\n",
    "    image = Image.fromarray(image, 'RGB')\n",
    "    image = image.resize((256, 256))\n",
    "    image = np.array(image)\n",
    "    image = cv2.cvtColor(image, cv2.COLOR_BGR2RGB)\n",
    "    dataset.append(image)\n",
    "    label.append(0)\n",
    "\n",
    "\n",
    "pha_images = os.listdir(image_directory + 'pharyngitis/')\n",
    "for i, image_name in enumerate(pha_images):    #Remember enumerate method adds a counter and returns the enumerate object\n",
    "    image = cv2.imread(image_directory + 'pharyngitis/' + image_name)\n",
    "    image = Image.fromarray(image, 'RGB')\n",
    "    image = image.resize((256, 256))\n",
    "    image = np.array(image)\n",
    "    image = cv2.cvtColor(image, cv2.COLOR_BGR2RGB)\n",
    "    dataset.append(image)\n",
    "    label.append(1)\n",
    "    \n",
    "images_np = dataset\n",
    "labels_np = label"
   ]
  },
  {
   "attachments": {},
   "cell_type": "markdown",
   "metadata": {},
   "source": [
    "## Augmenting the data functions"
   ]
  },
  {
   "cell_type": "code",
   "execution_count": 136,
   "metadata": {},
   "outputs": [],
   "source": [
    "def brightness(img, low, high):\n",
    "    value = random.uniform(low, high)\n",
    "    hsv = cv2.cvtColor(img, cv2.COLOR_RGB2HSV)\n",
    "    hsv = np.array(hsv, dtype = np.float64)\n",
    "    hsv[:,:,1] = hsv[:,:,1]*value\n",
    "    hsv[:,:,1][hsv[:,:,1]>255]  = 255\n",
    "    hsv[:,:,2] = hsv[:,:,2]*value \n",
    "    hsv[:,:,2][hsv[:,:,2]>255]  = 255\n",
    "    hsv = np.array(hsv, dtype = np.uint8)\n",
    "    img = cv2.cvtColor(hsv, cv2.COLOR_HSV2RGB)\n",
    "    return img\n",
    "\n",
    "def channel_shift(img, value):\n",
    "    value = int(random.uniform(-value, value))\n",
    "    img = img + value\n",
    "    img[:,:,:][img[:,:,:]>255]  = 255\n",
    "    img[:,:,:][img[:,:,:]<0]  = 0\n",
    "    img = img.astype(np.uint8)\n",
    "    return img\n",
    "\n",
    "\n",
    "def horizontal_flip(img):    \n",
    "    return cv2.flip(img, 1)\n",
    "    "
   ]
  },
  {
   "attachments": {},
   "cell_type": "markdown",
   "metadata": {},
   "source": [
    "## Augmentation pipeline"
   ]
  },
  {
   "cell_type": "code",
   "execution_count": 145,
   "metadata": {},
   "outputs": [
    {
     "name": "stdout",
     "output_type": "stream",
     "text": [
      "1448\n",
      "1448\n"
     ]
    }
   ],
   "source": [
    "def brightness_and_flip(image_np):\n",
    "    image_np = horizontal_flip(image_np)\n",
    "    image_np = brightness(image_np, 0.7, 1.2)\n",
    "    return image_np\n",
    "\n",
    "\n",
    "for i in range(len(images_np)):\n",
    "    to_append = horizontal_flip(images_np[i])\n",
    "    images_np.append(to_append)\n",
    "    labels_np.append(labels_np[i])\n",
    "    to_append = brightness(images_np[i], 0.7, 1.2)\n",
    "    images_np.append(to_append)\n",
    "    labels_np.append(labels_np[i])\n",
    "    to_append = brightness_and_flip(images_np[i])\n",
    "    images_np.append(to_append)\n",
    "    labels_np.append(labels_np[i])\n",
    "    \n",
    "print(len(images_np))\n",
    "print(len(labels_np))"
   ]
  },
  {
   "attachments": {},
   "cell_type": "markdown",
   "metadata": {},
   "source": [
    "## OpenCV pipeline functions"
   ]
  },
  {
   "cell_type": "code",
   "execution_count": 91,
   "metadata": {},
   "outputs": [
    {
     "data": {
      "text/plain": [
       "\"\\ndef transform_using_watershed(grad_mag_np, image_np, labels_np):\\n    grad_mag_np = cv2.convertScaleAbs(grad_mag_np)\\n    ret, thresh = cv2.threshold(grad_mag_np, 0, 255, cv2.THRESH_BINARY+cv2.THRESH_OTSU)\\n    kernel = np.ones((3,3), np.uint8)\\n    opening = cv2.morphologyEx(thresh, cv2.MORPH_OPEN, kernel, iterations=2)\\n    sure_bg = cv2.dilate(opening, kernel, iterations=3)\\n    dist_transform = cv2.distanceTransform(opening, cv2.DIST_L2, 5)\\n    ret, sure_fg = cv2.threshold(dist_transform, 0.7*dist_transform.max(), 255, 0)\\n    sure_fg = np.uint8(sure_fg)\\n    unknown = cv2.subtract(sure_bg, sure_fg)\\n    ret, markers = cv2.connectedComponents(sure_fg)\\n    \\n    \\n    markers = markers + 1\\n    markers[unknown == 255] = 0\\n    markers = markers.astype('int32')\\n    image_np = cv2.convertScaleAbs(image_np)\\n    markers = cv2.watershed(image_np, markers)\\n    img_output = np.zeros_like(image_np)\\n    img_output[markers == -1] = 255\\n    plt.imshow(img_output)\\n    plt.show()\\n\""
      ]
     },
     "execution_count": 91,
     "metadata": {},
     "output_type": "execute_result"
    }
   ],
   "source": [
    "def print_image(image_np):\n",
    "    plt.imshow(image_np/255.0)\n",
    "    plt.show()\n",
    "\n",
    "def print_image_grayscale(image_np, gray = False):\n",
    "    if gray == True:\n",
    "        plt.imshow(image_np/255.0, cmap='gray')\n",
    "    else:\n",
    "        plt.imshow(image_np)\n",
    "    plt.show()\n",
    "\n",
    "def combine_mask_with_image(mask, image_np):\n",
    "    image_np = cv2.bitwise_and(image_np, image_np, mask = mask)\n",
    "    return image_np\n",
    "\n",
    "\n",
    "def apply_threshold_rgb(images_np, lower = np.array([0,0,0]), upper = np.array([255,255,255])):\n",
    "    binary_np = cv2.inRange(images_np, lower, upper)\n",
    "    return binary_np\n",
    "\n",
    "\n",
    "def apply_threshold_grayscale(grayscale_np, lower=0, upper=255):\n",
    "    binary_np = cv2.inRange(grayscale_np, lower, upper)\n",
    "    return binary_np\n",
    "\n",
    "def convert_to_grayscale(images_np):\n",
    "    #gray_np = np.dot(images_np[..., :3], [0.2989, 0.5870, 0.1140])\n",
    "    gray_np = cv2.cvtColor(images_np, cv2.COLOR_BGR2GRAY)\n",
    "    return gray_np\n",
    "\n",
    "def convert_rgb_to_ycbcr(image_np):\n",
    "    image_np = image_np.astype(np.uint8)\n",
    "    ycbcr_image = cv2.cvtColor(image_np, cv2.COLOR_RGB2YCrCb)\n",
    "    return ycbcr_image\n",
    "\n",
    "def resize_image(image_np, new_size):\n",
    "    resize_image = cv2.resize(image_np, new_size)\n",
    "    return resize_image\n",
    "\n",
    "def color_normalisation(image_np):\n",
    "    hsv = cv2.cvtColor(image_np, cv2.COLOR_RGB2HSV)\n",
    "    h, s, v = cv2.split(hsv)\n",
    "    mean_s = np.mean(s)\n",
    "    std_s = np.std(s)\n",
    "    mean_v = np.mean(v)\n",
    "    std_v = np.std(v)\n",
    "    \n",
    "    s_norm = (s-mean_s)/std_s\n",
    "    v_norm = (v-mean_v)/std_v\n",
    "    \n",
    "    hsv[:,:,1] = s_norm\n",
    "    hsv[:,:,2] = v_norm\n",
    "    img_norm = cv2.cvtColor(hsv, cv2.COLOR_HSV2RGB)\n",
    "    return img_norm\n",
    "    \n",
    "    \n",
    "    \n",
    "'''\n",
    "def transform_using_watershed(grad_mag_np, image_np, labels_np):\n",
    "    grad_mag_np = cv2.convertScaleAbs(grad_mag_np)\n",
    "    ret, thresh = cv2.threshold(grad_mag_np, 0, 255, cv2.THRESH_BINARY+cv2.THRESH_OTSU)\n",
    "    kernel = np.ones((3,3), np.uint8)\n",
    "    opening = cv2.morphologyEx(thresh, cv2.MORPH_OPEN, kernel, iterations=2)\n",
    "    sure_bg = cv2.dilate(opening, kernel, iterations=3)\n",
    "    dist_transform = cv2.distanceTransform(opening, cv2.DIST_L2, 5)\n",
    "    ret, sure_fg = cv2.threshold(dist_transform, 0.7*dist_transform.max(), 255, 0)\n",
    "    sure_fg = np.uint8(sure_fg)\n",
    "    unknown = cv2.subtract(sure_bg, sure_fg)\n",
    "    ret, markers = cv2.connectedComponents(sure_fg)\n",
    "    \n",
    "    \n",
    "    markers = markers + 1\n",
    "    markers[unknown == 255] = 0\n",
    "    markers = markers.astype('int32')\n",
    "    image_np = cv2.convertScaleAbs(image_np)\n",
    "    markers = cv2.watershed(image_np, markers)\n",
    "    img_output = np.zeros_like(image_np)\n",
    "    img_output[markers == -1] = 255\n",
    "    plt.imshow(img_output)\n",
    "    plt.show()\n",
    "'''"
   ]
  },
  {
   "attachments": {},
   "cell_type": "markdown",
   "metadata": {},
   "source": [
    "## Image segmentation functions"
   ]
  },
  {
   "cell_type": "code",
   "execution_count": 92,
   "metadata": {},
   "outputs": [],
   "source": [
    "def neighbourhood_region_labelling(np_binary_image):\n",
    "    #labels is a numpy array that contains the labelled image. Each pixel is assigned a label value corresponding to the inex of the connected component that pixel belongs to\n",
    "    #num_labels is an integer representing number of connected components\n",
    "    num_labels, labels = cv2.connectedComponents(np_binary_image, connectivity=8)\n",
    "    return labels"
   ]
  },
  {
   "attachments": {},
   "cell_type": "markdown",
   "metadata": {},
   "source": [
    "## Edge detection and smoothing functions"
   ]
  },
  {
   "cell_type": "code",
   "execution_count": 93,
   "metadata": {},
   "outputs": [],
   "source": [
    "def apply_gaussian_blur(images_np):\n",
    "    # second argument is kernel size. Larger the kernel size means wider distribution of weights\n",
    "    # third argument is sigma - larger the sigma the more spread out the blur effect. Pixels far away have greater influence on final output\n",
    "    # A larger kernel size can help to smooth out larger features in the image, while a larger sigma value can help to remove finer details and noise\n",
    "    blurred_image_np = cv2.GaussianBlur(images_np, (7, 7), 15)\n",
    "    return blurred_image_np\n",
    "\n",
    "def calculate_gradient_mag_using_sobel(grayscale_np):\n",
    "    #Second argument is the data type of the output gradient image\n",
    "    #Third - Order of derivative in x direction\n",
    "    #Fourth - Order of derivative in y direction\n",
    "    #Fifth - Sobel Kernel to be used in convolution\n",
    "    grad_x = cv2.Sobel(grayscale_np, cv2.CV_64F, 1, 0, ksize=3)\n",
    "    grad_y = cv2.Sobel(grayscale_np, cv2.CV_64F, 0, 1, ksize=3)\n",
    "    grad_mag = np.sqrt(grad_x**2 + grad_y**2)\n",
    "    return grad_mag\n",
    "\n",
    "def calculate_gradient_mag_using_canny(grayscale_np, lower_thresh = 0, upper_thresh = 0):\n",
    "    #second argument - grad mag threshold. Any edge with grad mag lower than this is discarded as weak edges\n",
    "    #third argument - grad mag threshold but any edge with grad mag higher considered as strong edges\n",
    "    grayscale_np = grayscale_np.astype(np.uint8)\n",
    "    edges_np = cv2.Canny(grayscale_np,lower_thresh, upper_thresh)\n",
    "    return edges_np\n",
    "\n",
    "\n",
    "def get_contours_from_binary_edges(edges):\n",
    "    contours, hierarchy = cv2.findContours(edges, cv2.RETR_TREE, cv2.CHAIN_APPROX_NONE)\n",
    "    return contours"
   ]
  },
  {
   "attachments": {},
   "cell_type": "markdown",
   "metadata": {},
   "source": [
    "## Vision modelling and detecting shapes"
   ]
  },
  {
   "cell_type": "code",
   "execution_count": 94,
   "metadata": {},
   "outputs": [],
   "source": [
    "\n",
    "def get_circles_from_edges(edges, min_radius = 0, max_radius = 100):\n",
    "    #first argument is the binary image of edges\n",
    "    #Second argument is variation of hough transform -\n",
    "    #variants include cv2.HOUGH_STANDARD, cv2.HOUGH_PROBABALISTIC, cv2.HOUGH_GRADIENT\n",
    "    #third argument is resolution of accumulator array - represents ratio between image resolution and resolution of accumulator array - determines granularity of search - smaller leads to more finer search\n",
    "    #fourth argument is the minimum distance between centers of detected circles\n",
    "    #param1 is the higher threshold for the canny edge detector\n",
    "    #fourth argument is Min and max radius of circles found\n",
    "    circles = cv2.HoughCircles(edges, cv2.HOUGH_GRADIENT, 1,20, param1=50, param2= 30, minRadius=min_radius, maxRadius=max_radius)\n",
    "    \n",
    "    if circles is not None:\n",
    "        circles = np.round(circles[0, :]).astype(\"int\")\n",
    "        distances = np.sqrt((circles[:, 0] - edges.shape[1]/2)**2 + (circles[:, 1] - edges.shape[0]/2)**2)\n",
    "        sorted_circles = circles[np.argsort(distances)]\n",
    "        sorted_circles = np.expand_dims(sorted_circles, axis=0)\n",
    "        return sorted_circles\n",
    "    \n",
    "    return circles\n",
    "\n",
    "\n",
    "def draw_circles_on_image(image_np, circles):\n",
    "    if circles is not None:\n",
    "        circles = np.uint16(np.around(circles))\n",
    "        #because of break after this, it will only take the top most circle i.e. closest to centre\n",
    "        for i in circles[0, :]:\n",
    "            center = (i[0], i[1])\n",
    "            # circle center\n",
    "            cv2.circle(image_np, center, 1, (0, 100, 100), 3)\n",
    "            # circle outline\n",
    "            radius = i[2]\n",
    "            cv2.circle(image_np, center, radius, (255, 0, 255), 3)\n",
    "            break\n",
    "    return image_np\n",
    "\n",
    "def draw_circle_on_image(image_np, circle):\n",
    "    image_np = cv2.circle(image_np, (circle[0],circle[1]),circle[2],(0,255,0),2)\n",
    "    return image_np\n",
    "\n",
    "def create_square_mask(circle, image_np):\n",
    "    print(circle)\n",
    "    x, y = circle[:2]\n",
    "    size = circle[2]\n",
    "    mask = np.zeros(image_np.shape[:2], dtype=np.uint8)\n",
    "    mask[y-size:y+size, x-size:x+size] = 1\n",
    "    return mask\n",
    "\n",
    "def crop_image(image_np, circle):\n",
    "    square_size = circle[2] * 2\n",
    "    x_start = circle[0]-circle[2]\n",
    "    y_start = circle[1] - circle[2]\n",
    "    cropped = image_np[y_start: y_start+square_size, x_start:x_start+square_size]\n",
    "    return cropped\n",
    "\n",
    "\n",
    "def create_and_apply_circle_mask(image_np, circles):\n",
    "    if circles is not None:\n",
    "        circle = circles[0][0]\n",
    "        mask = np.zeros(image_np.shape[:2], dtype=np.uint8)\n",
    "        cv2.circle(mask, (circle[0], circle[1]), circle[2], (255, 255, 255), -1)\n",
    "        circle_result = cv2.bitwise_and(image_np, image_np, mask=mask)\n",
    "        result = crop_image(circle_result, circle)\n",
    "    else:\n",
    "        result = np.zeros_like(image_np)\n",
    "    return result"
   ]
  },
  {
   "attachments": {},
   "cell_type": "markdown",
   "metadata": {},
   "source": [
    "## Pipeline"
   ]
  },
  {
   "cell_type": "code",
   "execution_count": 146,
   "metadata": {},
   "outputs": [],
   "source": [
    "def pipeline(images_np, labels_np):\n",
    "    images_np, labels_np = apply_gaussian_blur(images_np, labels_np)\n",
    "    data_from_np = tensor_dataset_from_np(images_np, labels_np)\n",
    "    \n",
    "'''    \n",
    "for i in range(len(images_np)):\n",
    "    #binary_np= apply_threshold_rgb(images_np[i], np.array([0,0,0]), np.array([250,250,250]))\n",
    "    #image_np = combine_mask_with_image(binary_np, images_np[i])\n",
    "\n",
    "    #ycbcr_image = convert_rgb_to_ycbcr(images_np[i])\n",
    "    #binary_np = apply_threshold_rgb(ycbcr_image, np.array([22,130,110]), np.array([122,155,130]))\n",
    "    #image_np = combine_mask_with_image(binary_np, images_np[i])\n",
    "    #print_image(image_np)\n",
    "    \n",
    "    \n",
    "    blurred_np= apply_gaussian_blur(images_np[i])\n",
    "    #print_image(blurred_np)\n",
    "    gray_np = convert_to_grayscale(blurred_np)\n",
    "    #print_image_grayscale(gray_np)\n",
    "    #grad_mag_np = calculate_gradient_mag_using_sobel(gray_np)\n",
    "    #print_image_grayscale(grad_mag_np, True)\n",
    "    grad_mag_np = calculate_gradient_mag_using_canny(gray_np, 0, 5)\n",
    "    #grad_mag_np = canny_skimage(gray_np)\n",
    "    circles = get_circles_from_edges(grad_mag_np, 70, 100)S\n",
    "    cropped_image_np = create_and_apply_circle_mask(images_np[i],circles)\n",
    "    images_np[i] = resize_image(cropped_image_np, (256,256))\n",
    "    maxes.append(np.amax(images_np[i]))\n",
    "    images_np[i] = images_np[i].astype('float32')/255.0\n",
    "    maxes_new.append(np.amax(images_np[i]))\n",
    "    #circles_np = draw_circle_on_image(to_draw_np, circles)\n",
    "    #circles_np = draw_circles_on_image(to_draw_np, circles)\n",
    "    #print_image(circles_np)\n",
    "    #perform_hough_transform(grad_mag_np, images_np[i])\n",
    "    #transform_using_watershed(grad_mag_np, images_np[i], labels_np[i])\n",
    "'''\n",
    "    \n",
    "for i in range(len(images_np)):\n",
    "    #color_corrected = color_normalisation(images_np[i])\n",
    "    #print_image(color_corrected)\n",
    "    blurred_np= apply_gaussian_blur(images_np[i])\n",
    "    gray_np = convert_to_grayscale(blurred_np)\n",
    "    grad_mag_np = calculate_gradient_mag_using_canny(gray_np, 0, 5)\n",
    "    circles = get_circles_from_edges(grad_mag_np, 70, 100)\n",
    "    cropped_image_np = create_and_apply_circle_mask(images_np[i],circles)\n",
    "    images_np[i] = resize_image(cropped_image_np, (256,256))\n",
    "    images_np[i] = images_np[i].astype('float32')/255.0\n",
    "    "
   ]
  },
  {
   "attachments": {},
   "cell_type": "markdown",
   "metadata": {},
   "source": [
    "## Splitting into train and test"
   ]
  },
  {
   "cell_type": "code",
   "execution_count": 168,
   "metadata": {},
   "outputs": [],
   "source": [
    "#for i in range(len(images_np)):\n",
    "#    images_np[i] = images_np[i]/255.0\n",
    "\n",
    "\n",
    "stratified_split = StratifiedShuffleSplit(n_splits=1, test_size=0.2, random_state=42)\n",
    "train_indices, test_indices = next(stratified_split.split(images_np, labels_np))\n",
    "\n",
    "x_train = [images_np[i] for i in train_indices]\n",
    "y_train = [labels_np[i] for i in train_indices]\n",
    "x_test = [images_np[i] for i in test_indices]\n",
    "y_test = [labels_np[i] for i in test_indices]\n",
    "\n",
    "x_train = np.array(x_train)\n",
    "x_test = np.array(x_test)\n",
    "y_train = np.array(y_train).reshape(-1,1)\n",
    "y_test = np.array(y_test).reshape(-1,1)"
   ]
  },
  {
   "attachments": {},
   "cell_type": "markdown",
   "metadata": {},
   "source": [
    "## Building the deep learning model"
   ]
  },
  {
   "cell_type": "code",
   "execution_count": 170,
   "metadata": {},
   "outputs": [],
   "source": [
    "'''\n",
    "model = ResNet50(include_top=False, weights='imagenet',\n",
    "                 input_shape=(256, 256, 3), classes=2, pooling='avg')\n",
    "resnet_model = Sequential()\n",
    "resnet_model.add(model)\n",
    "for layer in resnet_model.layers:\n",
    "    layer.trainable = False\n",
    "resnet_model.add(Dense(512, activation='relu'))\n",
    "resnet_model.add(Dense(1, activation='sigmoid'))\n",
    "resnet_model.compile('adam', loss=tf.losses.BinaryCrossentropy(),\n",
    "                     metrics=['accuracy'])\n",
    "resnet_model.summary()\n",
    "'''\n",
    "\n",
    "model = Sequential()\n",
    "# model.add(resnet_model)\n",
    "# Conv2D(No. of filters, dimensions of filter, activation function, expected image size(only first time))\n",
    "model.add(Conv2D(32, (3, 3), 1, activation='relu',\n",
    "          padding=\"same\", input_shape=(256, 256, 3)))\n",
    "model.add(MaxPooling2D())\n",
    "\n",
    "model.add(Conv2D(32, (3, 3), 1, activation='relu'))\n",
    "model.add(MaxPooling2D())\n",
    "\n",
    "\n",
    "model.add(Conv2D(32, (3, 3), 1, activation='relu'))\n",
    "\n",
    "model.add(Conv2D(32, (3, 3), 1, activation='relu', padding=\"same\"))\n",
    "model.add(MaxPooling2D())\n",
    "\n",
    "model.add(Flatten())\n",
    "\n",
    "model.add(Dense(512, activation='relu'))\n",
    "model.add(Dense(1, activation='sigmoid'))\n",
    "\n",
    "model.compile('adam', loss=tf.losses.BinaryCrossentropy(),\n",
    "              metrics=['accuracy'])\n",
    "# model.summary()"
   ]
  },
  {
   "cell_type": "code",
   "execution_count": 169,
   "metadata": {},
   "outputs": [],
   "source": [
    "del model"
   ]
  },
  {
   "attachments": {},
   "cell_type": "markdown",
   "metadata": {},
   "source": [
    "## Fitting and testing the model"
   ]
  },
  {
   "cell_type": "code",
   "execution_count": 171,
   "metadata": {},
   "outputs": [
    {
     "name": "stdout",
     "output_type": "stream",
     "text": [
      "Epoch 1/12\n"
     ]
    },
    {
     "name": "stderr",
     "output_type": "stream",
     "text": [
      "2023-03-15 14:23:52.491629: I tensorflow/core/grappler/optimizers/custom_graph_optimizer_registry.cc:114] Plugin optimizer for device_type GPU is enabled.\n"
     ]
    },
    {
     "name": "stdout",
     "output_type": "stream",
     "text": [
      "15/15 [==============================] - ETA: 0s - loss: 0.7576 - accuracy: 0.6112"
     ]
    },
    {
     "name": "stderr",
     "output_type": "stream",
     "text": [
      "2023-03-15 14:23:59.779484: I tensorflow/core/grappler/optimizers/custom_graph_optimizer_registry.cc:114] Plugin optimizer for device_type GPU is enabled.\n"
     ]
    },
    {
     "name": "stdout",
     "output_type": "stream",
     "text": [
      "15/15 [==============================] - 8s 478ms/step - loss: 0.7576 - accuracy: 0.6112 - val_loss: 0.7571 - val_accuracy: 0.5560\n",
      "Epoch 2/12\n",
      "15/15 [==============================] - 6s 416ms/step - loss: 0.5765 - accuracy: 0.7063 - val_loss: 0.5887 - val_accuracy: 0.6897\n",
      "Epoch 3/12\n",
      "15/15 [==============================] - 6s 416ms/step - loss: 0.4985 - accuracy: 0.7711 - val_loss: 0.6004 - val_accuracy: 0.7026\n",
      "Epoch 4/12\n",
      "15/15 [==============================] - 6s 417ms/step - loss: 0.4561 - accuracy: 0.7883 - val_loss: 0.5337 - val_accuracy: 0.7716\n",
      "Epoch 5/12\n",
      "15/15 [==============================] - 6s 411ms/step - loss: 0.4207 - accuracy: 0.8143 - val_loss: 0.5569 - val_accuracy: 0.7629\n",
      "Epoch 6/12\n",
      "15/15 [==============================] - 6s 406ms/step - loss: 0.4025 - accuracy: 0.8315 - val_loss: 0.5645 - val_accuracy: 0.7500\n",
      "Epoch 7/12\n",
      "15/15 [==============================] - 6s 409ms/step - loss: 0.3405 - accuracy: 0.8542 - val_loss: 0.5585 - val_accuracy: 0.7543\n",
      "Epoch 8/12\n",
      "15/15 [==============================] - 6s 421ms/step - loss: 0.3026 - accuracy: 0.8780 - val_loss: 0.4328 - val_accuracy: 0.8147\n",
      "Epoch 9/12\n",
      "15/15 [==============================] - 6s 407ms/step - loss: 0.2601 - accuracy: 0.8888 - val_loss: 0.4821 - val_accuracy: 0.7802\n",
      "Epoch 10/12\n",
      "15/15 [==============================] - 6s 410ms/step - loss: 0.2031 - accuracy: 0.9233 - val_loss: 0.4212 - val_accuracy: 0.8060\n",
      "Epoch 11/12\n",
      "15/15 [==============================] - 6s 411ms/step - loss: 0.1671 - accuracy: 0.9503 - val_loss: 0.6615 - val_accuracy: 0.7629\n",
      "Epoch 12/12\n",
      "15/15 [==============================] - 6s 405ms/step - loss: 0.1752 - accuracy: 0.9287 - val_loss: 0.4918 - val_accuracy: 0.7888\n"
     ]
    }
   ],
   "source": [
    "'''\n",
    "hist = model.fit(\n",
    "    train_generator,\n",
    "    epochs=20,\n",
    "    validation_data=val_generator,\n",
    "    verbose=1\n",
    ")\n",
    "'''\n",
    "hist = model.fit(x_train,\n",
    "    y_train,\n",
    "    batch_size=64,\n",
    "    epochs=12,\n",
    "    validation_split = 0.2,\n",
    "    verbose=1,\n",
    ")"
   ]
  },
  {
   "attachments": {},
   "cell_type": "markdown",
   "metadata": {},
   "source": [
    "### Graph for error and accuracy"
   ]
  },
  {
   "cell_type": "code",
   "execution_count": 172,
   "metadata": {},
   "outputs": [
    {
     "data": {
      "image/png": "[encoded data removed]",
      "text/plain": [
       "<Figure size 640x480 with 1 Axes>"
      ]
     },
     "metadata": {},
     "output_type": "display_data"
    },
    {
     "data": {
      "image/png": "[encoded data removed]",
      "text/plain": [
       "<Figure size 640x480 with 1 Axes>"
      ]
     },
     "metadata": {},
     "output_type": "display_data"
    }
   ],
   "source": [
    "fig = plt.figure()\n",
    "plt.plot(hist.history['accuracy'], color='green', label='accuracy')\n",
    "plt.plot(hist.history['val_accuracy'], color='black', label='val_accuracy')\n",
    "fig.suptitle('accuracy')\n",
    "plt.legend(loc='upper left')\n",
    "plt.show()\n",
    "\n",
    "fig2 = plt.figure()\n",
    "plt.plot(hist.history['loss'], color='teal', label='loss')\n",
    "plt.plot(hist.history['val_loss'], color='orange', label='val_loss')\n",
    "fig.suptitle('loss')\n",
    "plt.legend(loc='upper left')\n",
    "plt.show()"
   ]
  },
  {
   "attachments": {},
   "cell_type": "markdown",
   "metadata": {},
   "source": [
    "## Evaluation on test set"
   ]
  },
  {
   "cell_type": "code",
   "execution_count": 173,
   "metadata": {},
   "outputs": [
    {
     "name": "stderr",
     "output_type": "stream",
     "text": [
      "2023-03-15 14:27:11.664034: I tensorflow/core/grappler/optimizers/custom_graph_optimizer_registry.cc:114] Plugin optimizer for device_type GPU is enabled.\n"
     ]
    },
    {
     "name": "stdout",
     "output_type": "stream",
     "text": [
      "10/10 [==============================] - 1s 94ms/step\n"
     ]
    },
    {
     "data": {
      "image/png": "[encoded data removed]",
      "text/plain": [
       "<Figure size 640x480 with 2 Axes>"
      ]
     },
     "metadata": {},
     "output_type": "display_data"
    },
    {
     "name": "stdout",
     "output_type": "stream",
     "text": [
      "Precision: 0.8765432098765432\n",
      "Recall: 0.6016949152542372\n",
      "Accuracy: 0.803448275862069\n"
     ]
    }
   ],
   "source": [
    "y_preds = model.predict(x_test)\n",
    "y_preds = np.round(y_preds)\n",
    "cm = confusion_matrix(y_test, y_preds)\n",
    "sns.heatmap(cm, annot=True, cmap='Blues', fmt='g')\n",
    "plt.xlabel('Predicted label')\n",
    "plt.ylabel('True label')\n",
    "plt.show()\n",
    "\n",
    "tn, fp, fn, tp = cm.ravel()\n",
    "\n",
    "precision = tp / (tp + fp)\n",
    "recall = tp / (tp + fn)\n",
    "accuracy = (tp + tn) / (tp + tn + fp + fn)\n",
    "\n",
    "print(\"Precision:\", precision)\n",
    "print(\"Recall:\", recall)\n",
    "print(\"Accuracy:\", accuracy)"
   ]
  },
  {
   "attachments": {},
   "cell_type": "markdown",
   "metadata": {},
   "source": [
    "## Saving the model"
   ]
  },
  {
   "cell_type": "code",
   "execution_count": null,
   "metadata": {},
   "outputs": [],
   "source": [
    "model.save(os.path.join('models', 'tonsil_detector.h5'))"
   ]
  }
 ],
 "metadata": {
  "kernelspec": {
   "display_name": "venv-metal",
   "language": "python",
   "name": "python3"
  },
  "language_info": {
   "codemirror_mode": {
    "name": "ipython",
    "version": 3
   },
   "file_extension": ".py",
   "mimetype": "text/x-python",
   "name": "python",
   "nbconvert_exporter": "python",
   "pygments_lexer": "ipython3",
   "version": "3.10.9"
  },
  "orig_nbformat": 4,
  "vscode": {
   "interpreter": {
    "hash": "ae5ed6e59739fd9c8a6a8aa249c06f0d19f950643afb8c47bef30ff59ac336a0"
   }
  }
 },
 "nbformat": 4,
 "nbformat_minor": 2
}
